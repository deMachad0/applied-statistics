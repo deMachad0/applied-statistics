{
 "cells": [
  {
   "cell_type": "markdown",
   "id": "4843efa7",
   "metadata": {},
   "source": [
    "# ATU - Applied Statistics "
   ]
  },
  {
   "cell_type": "markdown",
   "id": "f853298a",
   "metadata": {},
   "source": [
    "## Assessment"
   ]
  },
  {
   "cell_type": "markdown",
   "id": "fdf5a97c",
   "metadata": {},
   "source": []
  }
 ],
 "metadata": {
  "language_info": {
   "name": "python"
  }
 },
 "nbformat": 4,
 "nbformat_minor": 5
}
